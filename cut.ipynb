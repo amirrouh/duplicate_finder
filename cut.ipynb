{
 "cells": [
  {
   "cell_type": "code",
   "execution_count": 44,
   "id": "d8d49b58-2968-4ba6-9bf7-490e56df2b64",
   "metadata": {},
   "outputs": [],
   "source": [
    "from pathlib import Path\n",
    "import os\n",
    "import sys\n",
    "import shutil\n",
    "import pandas as pd\n",
    "from tqdm import tqdm"
   ]
  },
  {
   "cell_type": "code",
   "execution_count": 45,
   "id": "e65ce1c5-70de-4728-9174-ceac80e93df3",
   "metadata": {},
   "outputs": [],
   "source": [
    "src = Path(\"/Volumes/CT SCANS 2/\")\n",
    "dst = Path(\"/Volumes/CT SCANS 3/\")"
   ]
  },
  {
   "cell_type": "code",
   "execution_count": 50,
   "id": "82fa3dba-43c7-4f1e-90e7-b304c02b345d",
   "metadata": {},
   "outputs": [
    {
     "name": "stderr",
     "output_type": "stream",
     "text": [
      "100%|███████████████████████████████████████████████████████████████████████████████████████████████| 725/725 [00:22<00:00, 32.33it/s]\n",
      "0it [00:00, ?it/s]\n"
     ]
    },
    {
     "data": {
      "text/plain": [
       "\"\\n$ xattr -rc my_folder\\n\\n$ SetFile -d '12/31/1999 23:59:59' my_folder\\n\""
      ]
     },
     "execution_count": 50,
     "metadata": {},
     "output_type": "execute_result"
    }
   ],
   "source": [
    "src_files = list(src.rglob(\"*\"))\n",
    "dst_files = list(dst.rglob(\"*\"))\n",
    "\n",
    "src_files_rel_path = []\n",
    "for src_file in src_files:\n",
    "    rel_path =  os.path.relpath(src_file, src)\n",
    "    if os.path.isfile(src / rel_path):\n",
    "        src_files_rel_path.append(rel_path)\n",
    "\n",
    "dst_files_rel_path = []\n",
    "for dst_file in dst_files:\n",
    "    rel_path =  os.path.relpath(dst_file, dst)\n",
    "    if os.path.isfile(dst / rel_path):\n",
    "        dst_files_rel_path.append(rel_path)\n",
    "\n",
    "toBeCopied = []\n",
    "for src_file in tqdm(src_files_rel_path):\n",
    "    if src_file in dst_files_rel_path:\n",
    "        os.remove(src / src_file)\n",
    "    else:\n",
    "        toBeCopied.append(src / src_file)\n",
    "\n",
    "log = []\n",
    "\n",
    "# remove small files < 500 mb\n",
    "for file in tqdm(toBeCopied):\n",
    "    try:\n",
    "        size = os.path.getsize(file) / (1024 * 1024)\n",
    "        if size < 500:\n",
    "                os.remove(file)\n",
    "    except Exception as e:\n",
    "        log.append(e)\n",
    "        \n",
    "# To remove the resume copy icon\n",
    "\"\"\"\n",
    "$ xattr -rc my_folder\n",
    "\n",
    "$ SetFile -d '12/31/1999 23:59:59' my_folder\n",
    "\"\"\""
   ]
  },
  {
   "cell_type": "code",
   "execution_count": null,
   "id": "26d0a31b-8eaa-4d81-bbec-1d748094de6e",
   "metadata": {},
   "outputs": [],
   "source": []
  }
 ],
 "metadata": {
  "kernelspec": {
   "display_name": "Python 3 (ipykernel)",
   "language": "python",
   "name": "python3"
  },
  "language_info": {
   "codemirror_mode": {
    "name": "ipython",
    "version": 3
   },
   "file_extension": ".py",
   "mimetype": "text/x-python",
   "name": "python",
   "nbconvert_exporter": "python",
   "pygments_lexer": "ipython3",
   "version": "3.10.9"
  }
 },
 "nbformat": 4,
 "nbformat_minor": 5
}
