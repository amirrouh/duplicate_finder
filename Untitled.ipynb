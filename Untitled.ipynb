{
 "cells": [
  {
   "cell_type": "code",
   "execution_count": 9,
   "id": "797f1304-b7da-4897-9249-c6557c75027c",
   "metadata": {},
   "outputs": [],
   "source": [
    "from pathlib import Path\n",
    "import os\n",
    "import sys\n",
    "import shutil\n",
    "import pandas as pd"
   ]
  },
  {
   "cell_type": "code",
   "execution_count": 10,
   "id": "4d49a53c-61c4-4c19-a134-283cc7a359be",
   "metadata": {},
   "outputs": [],
   "source": [
    "path = Path(\"/Volumes\")"
   ]
  },
  {
   "cell_type": "code",
   "execution_count": 11,
   "id": "1e39f65d-e8fd-4cee-bb32-67ef0ca44770",
   "metadata": {},
   "outputs": [],
   "source": [
    "files = list(path.rglob(\"*\"))"
   ]
  },
  {
   "cell_type": "code",
   "execution_count": 7,
   "id": "f8e7c3ad-2bae-46fa-a6b8-f30551b01ca5",
   "metadata": {
    "scrolled": true,
    "tags": []
   },
   "outputs": [],
   "source": [
    "database = []\n",
    "for f in files:\n",
    "    if not f.is_dir():\n",
    "        size = (os.path.getsize(f) / 1048576)\n",
    "        if size > 10:\n",
    "            database.append([f, f.stem, size])\n",
    "database = pd.DataFrame(database)\n",
    "# database.columns = [\"path\", \"name\", \"size\"]"
   ]
  },
  {
   "cell_type": "code",
   "execution_count": 8,
   "id": "8e652340-41d4-47ee-8111-71e66275dbbc",
   "metadata": {},
   "outputs": [
    {
     "data": {
      "text/html": [
       "<div>\n",
       "<style scoped>\n",
       "    .dataframe tbody tr th:only-of-type {\n",
       "        vertical-align: middle;\n",
       "    }\n",
       "\n",
       "    .dataframe tbody tr th {\n",
       "        vertical-align: top;\n",
       "    }\n",
       "\n",
       "    .dataframe thead th {\n",
       "        text-align: right;\n",
       "    }\n",
       "</style>\n",
       "<table border=\"1\" class=\"dataframe\">\n",
       "  <thead>\n",
       "    <tr style=\"text-align: right;\">\n",
       "      <th></th>\n",
       "    </tr>\n",
       "  </thead>\n",
       "  <tbody>\n",
       "  </tbody>\n",
       "</table>\n",
       "</div>"
      ],
      "text/plain": [
       "Empty DataFrame\n",
       "Columns: []\n",
       "Index: []"
      ]
     },
     "execution_count": 8,
     "metadata": {},
     "output_type": "execute_result"
    }
   ],
   "source": [
    "database"
   ]
  },
  {
   "cell_type": "code",
   "execution_count": 5,
   "id": "216448e8-8ff4-4180-8875-1372fd0e7192",
   "metadata": {},
   "outputs": [],
   "source": [
    "database[\"size\"] = database[\"size\"].astype(float).values"
   ]
  },
  {
   "cell_type": "code",
   "execution_count": 6,
   "id": "104d640b-300b-4566-bf23-fb8a3bdf8ba8",
   "metadata": {},
   "outputs": [],
   "source": [
    "duplicates = database[database.duplicated(\"size\", keep='first')].sort_values(\"size\")"
   ]
  },
  {
   "cell_type": "code",
   "execution_count": 7,
   "id": "2c200aea-1f21-40a1-a2d1-45834a3fc1b1",
   "metadata": {},
   "outputs": [],
   "source": [
    "duplicates = duplicates.reset_index()  # make sure indexes pair with number of rows"
   ]
  },
  {
   "cell_type": "code",
   "execution_count": 9,
   "id": "4bc2d3ce-6f2a-4f18-be81-fdb56519c60c",
   "metadata": {
    "scrolled": true,
    "tags": []
   },
   "outputs": [
    {
     "name": "stdout",
     "output_type": "stream",
     "text": [
      "could not delete /Volumes/sambashare/shared2/myPS/Celestina blooms/ALS-Scan---Silky-Smooth-4k.mp4\n",
      "could not delete /Volumes/sambashare/shared2/myPS/Celestina blooms/passionhd-the-handyman-2160.mp4\n"
     ]
    }
   ],
   "source": [
    "for index, row in duplicates.iterrows():\n",
    "    try:\n",
    "        os.remove(row[\"path\"])\n",
    "    except:\n",
    "        print(f\"could not delete {row['path']}\")"
   ]
  },
  {
   "cell_type": "code",
   "execution_count": null,
   "id": "c0c548fe-bda1-4660-8b30-7a4c2f1230c9",
   "metadata": {},
   "outputs": [],
   "source": []
  }
 ],
 "metadata": {
  "kernelspec": {
   "display_name": "Python 3 (ipykernel)",
   "language": "python",
   "name": "python3"
  },
  "language_info": {
   "codemirror_mode": {
    "name": "ipython",
    "version": 3
   },
   "file_extension": ".py",
   "mimetype": "text/x-python",
   "name": "python",
   "nbconvert_exporter": "python",
   "pygments_lexer": "ipython3",
   "version": "3.10.9"
  }
 },
 "nbformat": 4,
 "nbformat_minor": 5
}
